{
  "nbformat": 4,
  "nbformat_minor": 0,
  "metadata": {
    "colab": {
      "name": "wine.ipynb",
      "provenance": [],
      "authorship_tag": "ABX9TyPhQYduUnIs3JEO5FIQXVsx",
      "include_colab_link": true
    },
    "kernelspec": {
      "name": "python3",
      "display_name": "Python 3"
    }
  },
  "cells": [
    {
      "cell_type": "markdown",
      "metadata": {
        "id": "view-in-github",
        "colab_type": "text"
      },
      "source": [
        "<a href=\"https://colab.research.google.com/github/gerkibz/Knowledge-discovery-MIning/blob/main/wine.ipynb\" target=\"_parent\"><img src=\"https://colab.research.google.com/assets/colab-badge.svg\" alt=\"Open In Colab\"/></a>"
      ]
    },
    {
      "cell_type": "code",
      "metadata": {
        "id": "QQ4V48IZpMu4"
      },
      "source": [
        "setwd(\"C:\\Users\\hp\\Downloads\\Documents\")\n",
        "# load all packages used in this exploratory analysis\n",
        "library(ggplot2)\n",
        "library(GGally)"
      ],
      "execution_count": null,
      "outputs": []
    },
    {
      "cell_type": "code",
      "metadata": {
        "id": "5mLPLJ9Wq39E"
      },
      "source": [
        "red <- read.csv('wineQualityReds.csv')\n",
        "white <- read.csv('wineQualityWhites.csv')\n",
        "\n",
        "# add categorical varialbles to both sets\n",
        "red['color'] <- 'red'\n",
        "white['color'] <- 'white'\n",
        "\n",
        "# merge red wine and white wine datasets\n",
        "data <- rbind(red, white)"
      ],
      "execution_count": null,
      "outputs": []
    },
    {
      "cell_type": "code",
      "metadata": {
        "id": "IhyP2i-Fq9vU"
      },
      "source": [
        "dim(data)"
      ],
      "execution_count": null,
      "outputs": []
    },
    {
      "cell_type": "code",
      "metadata": {
        "id": "jOqSRJ44rguZ"
      },
      "source": [
        "summary(data$quality)\n",
        "table(data$quality)"
      ],
      "execution_count": null,
      "outputs": []
    },
    {
      "cell_type": "code",
      "metadata": {
        "id": "O7qN2VJtrg3l"
      },
      "source": [
        "#alcohol level distribution\n",
        "qplot(quality, data = data, fill = color, binwidth = 1) +\n",
        "    scale_x_continuous(breaks = seq(3,10,1), lim = c(3,10)) +\n",
        "    scale_y_sqrt()\n",
        "#distribution looks skewed."
      ],
      "execution_count": null,
      "outputs": []
    },
    {
      "cell_type": "code",
      "metadata": {
        "id": "WmR-Dq6yr4HN"
      },
      "source": [
        "#wine density distribution\n",
        "summary(data$density)\n",
        "qplot(density, data = data, fill = color, binwidth = 0.0002) +\n",
        "    scale_x_log10(lim = c(min(data$density), 1.00370), \n",
        "                  breaks = seq(min(data$density), 1.00370, 0.002))\n",
        "\n",
        "#there are two outliers: 1.0103 and 1.03898. To see the distribution of density clearer I used log10 and limited the data"
      ],
      "execution_count": null,
      "outputs": []
    },
    {
      "cell_type": "code",
      "metadata": {
        "id": "jt2L9xjVr4dM"
      },
      "source": [
        "#volatile acidity distribution\n",
        "summary(data$volatile.acidity)\n",
        "qplot(volatile.acidity, data = data, fill = color, binwidth = 0.001) +\n",
        "    scale_x_log10(breaks = seq(min(data$volatile.acidity), \n",
        "                               max(data$volatile.acidity), 0.1))\n",
        "# has normal distribution"
      ],
      "execution_count": null,
      "outputs": []
    },
    {
      "cell_type": "code",
      "metadata": {
        "id": "3P3t0XUCyMAU"
      },
      "source": [
        "#chloride distribution\n",
        "summary(data$chlorides)\n",
        "qplot(chlorides, data = data, fill = color, binwidth = 0.01) +\n",
        "    scale_x_log10(breaks = seq(min(data$chlorides), max(data$chlorides), 0.1))\n",
        "#distribution initially is skewed"
      ],
      "execution_count": null,
      "outputs": []
    },
    {
      "cell_type": "code",
      "metadata": {
        "id": "jbYL0DeeyMUA"
      },
      "source": [
        "#Density of Quality by color\n",
        "qplot(quality, data = data, binwidth = 1, color = color, geom = \"density\") + \n",
        "    scale_x_continuous(breaks = seq(3, 9, 1))\n",
        "#In out sample we have almost the same amount of red and white wines with quality ‘3’, ‘4’ and ‘9’, more red wines with quality ‘5’ and more white wines with quality “6”, “7” and “8”."
      ],
      "execution_count": null,
      "outputs": []
    },
    {
      "cell_type": "code",
      "metadata": {
        "id": "u863Bm9eyMhN"
      },
      "source": [
        "ggpairs(data)\n",
        "#I checked correlation between all the variables in wine dataset.\n",
        "#We can see some correlation in pairs like:\n",
        "#alcohol vs. density\n",
        "#fixed.acidity vs. density\n",
        "#residual.sugar vs total.sulfur.dioxide\n",
        "#residual.sugar vs. density\n",
        "#residual.sugar vs. alcohol\n",
        "#chlorides vs. density\n",
        "#chlorides vs. sulphates\n",
        "#quality vs. alcohol"
      ],
      "execution_count": null,
      "outputs": []
    },
    {
      "cell_type": "code",
      "metadata": {
        "id": "IsYh7CR7yMra"
      },
      "source": [
        "# use function for plotting with ggplot for simplicity of code\n",
        "f <- function(dataset, x, y, z, opts=NULL) {\n",
        "  ggplot(dataset, aes_string(x = x, y = y, color = z)) +\n",
        "   geom_point(alpha = 1/5, position = position_jitter(h = 0), size = 2) +\n",
        "   geom_smooth(method = 'lm')\n",
        "}\n",
        "\n",
        "# density vs. alcohol plot\n",
        "p <- f(data, \"density\", \"alcohol\", \"color\")\n",
        "p + coord_cartesian(xlim=c(min(data$density),1.005), ylim=c(8,15))\n",
        "\n",
        "# density vs. fixed.acidity plot\n",
        "p <- f(data, \"density\", \"fixed.acidity\", \"color\")\n",
        "p + coord_cartesian(xlim=c(min(data$density),1.005))\n",
        "\n",
        "# residual.sugar vs. total.sulfur.dioxide\n",
        "p <- f(data, \"residual.sugar\", \"total.sulfur.dioxide\", \"color\")\n",
        "p + scale_x_log10() +\n",
        "    coord_cartesian(xlim=c(min(data$residual.sugar),30), \n",
        "                    ylim=c(min(data$total.sulfur.dioxide), 350))\n",
        "    \n",
        "# residual.sugar vs. density\n",
        "p <- f(data, \"residual.sugar\", \"density\", \"color\")\n",
        "p + coord_cartesian(xlim=c(min(data$residual.sugar),25), \n",
        "                    ylim=c(min(data$density), 1.005))\n",
        "\n",
        "# residual.sugar vs. alcohol\n",
        "p <- f(data, \"residual.sugar\", \"alcohol\", \"color\")\n",
        "p + coord_cartesian(xlim=c(min(data$residual.sugar),25), \n",
        "                    ylim=c(min(data$alcohol), 15))\n",
        "\n",
        "\n",
        "# chlorides vs. density\n",
        "p <- f(data, \"chlorides\", \"density\", \"color\")\n",
        "p + scale_x_log10() +\n",
        "    coord_cartesian(ylim=c(min(data$density), 1.005))\n",
        "\n",
        "# chlorides vs. sulphates\n",
        "p <- f(data, \"chlorides\", \"sulphates\", \"color\")\n",
        "p + scale_x_log10() +\n",
        "    coord_cartesian(ylim=c(min(data$sulphates), 1))\n",
        "\n",
        "\n"
      ],
      "execution_count": null,
      "outputs": []
    },
    {
      "cell_type": "code",
      "metadata": {
        "id": "uniyenqOr4oD"
      },
      "source": [
        ""
      ],
      "execution_count": null,
      "outputs": []
    }
  ]
}